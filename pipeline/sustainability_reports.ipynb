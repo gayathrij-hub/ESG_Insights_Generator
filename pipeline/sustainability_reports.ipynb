{
 "cells": [
  {
   "cell_type": "code",
   "execution_count": 13,
   "metadata": {},
   "outputs": [
    {
     "name": "stdout",
     "output_type": "stream",
     "text": [
      "['https://www.apple.com/environment/pdf/Apple_Environmental_Progress_Report_2024.pdf', 'https://www.apple.com/environment/pdf/products/iphone/iPhone_16_and_iPhone_16_Plus_PER_Sept2024.pdf', 'https://assets-global.website-files.com/63636849ae1597cd8e2a0f8e/63ce4de69503662010f3a660_Apple_Pollution%20Emissions.pdf', 'https://www.apple.com/environment/pdf/products/iphone/iPhone_15_Pro_and_iPhone_15_Pro_Max_Sept2023.pdf', 'https://s203.q4cdn.com/367071867/files/doc_downloads/2024/04/Apple-Supply-Chain-2024-Progress-Report.pdf']\n"
     ]
    }
   ],
   "source": [
    "from googlesearch import search\n",
    "\n",
    "def find_sustainability_report(prompt):\n",
    "    query = f\"{prompt} + sustainability report filetype:pdf\"\n",
    "    results = list(search(query, num_results=5))\n",
    "    return results  # Return top results, preferably PDF links\n",
    "\n",
    "company = \"what is the best Apple product\"\n",
    "report_links = find_sustainability_report(company)\n",
    "print(report_links)"
   ]
  },
  {
   "cell_type": "code",
   "execution_count": 6,
   "metadata": {},
   "outputs": [
    {
     "name": "stdout",
     "output_type": "stream",
     "text": [
      "H ow can\n",
      "we advance\n",
      "sustainability?\n",
      "2024 Environmental\n",
      "Sustainability Report\n",
      "Reporting on our 2023 fiscal year\n",
      "Overview Microsoft sustainability Customer sustainability Global sustainability Appendix 02\n",
      "In this report\n",
      "Overview Microsoft sustainability Customer Global Appendix\n",
      "sustainability sustainability\n",
      "Carbon Waste\n",
      "Foreword 04 Our approach 10 Our approach 35 Overview 57 Overview 70 Appendix A 85\n",
      "2023 highlights 07 Improving the measurement 14 Reducing waste at our 37 Microsoft Cloud for 59 Investing in innovation 72 Appendix B 86\n",
      "and efficiency of our campuses and datacenters Sustainability\n",
      "How we work 08 Accelerate sustainability 76 #sustainabilitychampions 87\n",
      "operations\n",
      "Advancing circular cloud 40 Devices 61 solutions with AI\n",
      "Building markets and 18 hardware and packaging\n",
      "Green software 65 Policy and advocacy 79\n",
      "driving progress Improving device and 42\n",
      "Learnings and what’s next 22 packaging circularity Arts and culture 67 Employee engagement 81\n",
      "Learnings and what’s next 45 Planeta\n"
     ]
    }
   ],
   "source": [
    "import pdfplumber\n",
    "import requests\n",
    "from io import BytesIO\n",
    "\n",
    "def extract_text_from_pdf_url(pdf_url):\n",
    "    response = requests.get(pdf_url)\n",
    "    with pdfplumber.open(BytesIO(response.content)) as pdf:\n",
    "        text = \"\\n\".join([page.extract_text() for page in pdf.pages if page.extract_text()])\n",
    "    return text\n",
    "\n",
    "pdf_url = \"https://cdn-dynmedia-1.microsoft.com/is/content/microsoftcorp/microsoft/msc/documents/presentations/CSR/Microsoft-2024-Environmental-Sustainability-Report.pdf\"\n",
    "pdf_text = extract_text_from_pdf_url(pdf_url)\n",
    "\n",
    "print(pdf_text[:1000])  # Print a preview\n"
   ]
  },
  {
   "cell_type": "code",
   "execution_count": 1,
   "metadata": {},
   "outputs": [],
   "source": [
    "from sustainability_report import ESGRAGRetriever"
   ]
  },
  {
   "cell_type": "code",
   "execution_count": 8,
   "metadata": {},
   "outputs": [
    {
     "name": "stdout",
     "output_type": "stream",
     "text": [
      "✅ FAISS index loaded from sustainability_faiss.index. Index size: 3437\n",
      "✅ Loaded 2727 stored text chunks.\n",
      "FAISS index size after loading: 3437\n",
      "Stored text chunks: 2727\n"
     ]
    }
   ],
   "source": [
    "retriever = ESGRAGRetriever()\n",
    "print(\"FAISS index size after loading:\", retriever.index.ntotal)\n",
    "print(\"Stored text chunks:\", len(retriever.text_chunks))"
   ]
  },
  {
   "cell_type": "code",
   "execution_count": 4,
   "metadata": {},
   "outputs": [
    {
     "name": "stdout",
     "output_type": "stream",
     "text": [
      "Stored text chunks: 0\n"
     ]
    }
   ],
   "source": [
    "print(\"Stored text chunks:\", len(retriever.text_chunks))\n"
   ]
  },
  {
   "cell_type": "code",
   "execution_count": 7,
   "metadata": {},
   "outputs": [
    {
     "name": "stdout",
     "output_type": "stream",
     "text": [
      "✅ FAISS index loaded from sustainability_faiss.index. Index size: 3437\n",
      "✅ Loaded 2727 stored text chunks.\n",
      "🔍 Similarity score with stored data: 0.66\n",
      "✅ High similarity! Using stored sustainability report.\n"
     ]
    },
    {
     "data": {
      "text/plain": [
       "\"To assess the level of sustainability of Apple, we need to consider various aspects of its environmental, social, and governance (ESG) performance, as well as specific initiatives and achievements the company has reported. Here are some key points to consider:\\n\\n1. **Environmental Initiatives:**\\n   - **Renewable Energy:** Apple has made significant strides in transitioning its facilities to renewable energy. As of recent reports, Apple claims that its global corporate operations are powered by 100% renewable energy.\\n   - **Carbon Neutrality Goals:** Apple has set ambitious targets to become carbon neutral across its entire business, manufacturing supply chain, and product life cycle by 2030.\\n   - **Greenhouse Gas Emissions:** The company is actively working to reduce its carbon footprint, including indirect Scope 3 emissions, which are often the most challenging to address. This involves collaborating with suppliers to reduce emissions and improve energy efficiency.\\n\\n2. **Product and Supply Chain Responsibility:**\\n   - **Recycling and Material Use:** Apple has initiatives like the Daisy robot to disassemble and recycle iPhones, aiming to use more recycled and responsibly sourced materials in its products.\\n   - **Supplier Responsibility:** Apple conducts regular audits and works closely with suppliers to ensure compliance with environmental and social standards.\\n\\n3. **Social Responsibility:**\\n   - **Diversity and Inclusion:** Apple has made commitments to enhance diversity and inclusion within its workforce and has various programs to support underrepresented groups.\\n   - **Labor Practices:** The company is focused on ensuring fair labor practices across its supply chain, though it has faced challenges and criticisms in the past.\\n\\n4. **Governance:**\\n   - **Transparency and Reporting:** Apple regularly publishes detailed reports on its sustainability efforts, providing transparency to stakeholders about its progress and challenges.\\n   - **Stakeholder Engagement:** The company engages with stakeholders, including investors, employees, and customers, to address ESG concerns and expectations.\\n\\nOverall, Apple's sustainability efforts are robust and comprehensive, with clear goals and a track record of progress in several key areas. However, like any large corporation, there are ongoing challenges and areas for improvement, particularly in managing complex supply chains and reducing Scope 3 emissions. The level of sustainability of Apple is relatively high compared to many peers, but continuous efforts and innovation are necessary to meet its ambitious goals.\""
      ]
     },
     "execution_count": 7,
     "metadata": {},
     "output_type": "execute_result"
    }
   ],
   "source": [
    "report_parser = ESGRAGRetriever()\n",
    "prompt = \"what is the level of sustainability of Apple?\"\n",
    "report_parser.query_rag(prompt)  # Query the RAG status of the company"
   ]
  },
  {
   "cell_type": "code",
   "execution_count": 11,
   "metadata": {},
   "outputs": [
    {
     "name": "stdout",
     "output_type": "stream",
     "text": [
      "✅ FAISS index loaded from sustainability_faiss.index. Index size: 5427\n",
      "✅ Loaded 4717 stored text chunks.\n",
      "🔍 Similarity score with stored data: 0.73\n",
      "✅ High similarity! Using stored sustainability report.\n"
     ]
    },
    {
     "data": {
      "text/plain": [
       "\"To assess the level of sustainability of Intel, we can consider several key areas where the company has made commitments and progress:\\n\\n1. **Environmental Impact**: Intel has been proactive in reducing its environmental footprint. The company has set ambitious goals to reduce greenhouse gas emissions, minimize waste, and conserve water. Intel has invested in renewable energy and has been working towards achieving net positive water use.\\n\\n2. **Diversity and Inclusion**: As highlighted in the context, Intel is committed to diversity and inclusion, which is a significant aspect of social sustainability. The company has set goals for diverse participation in its projects and has made strides in building a more equitable technology industry.\\n\\n3. **Supply Chain Management**: Intel has been working on creating a more sustainable and ethical supply chain. This includes ensuring responsible sourcing of materials, reducing the environmental impact of its supply chain, and maintaining high standards for labor practices.\\n\\n4. **Innovation and Technology**: Intel invests in research and development to create more energy-efficient products and technologies. This not only helps reduce the environmental impact of its products but also supports broader sustainability goals by enabling other sectors to improve their energy efficiency.\\n\\n5. **Corporate Responsibility**: Intel publishes regular corporate responsibility reports that detail its sustainability initiatives and progress. These reports provide transparency and accountability regarding Intel's sustainability efforts.\\n\\nOverall, Intel has demonstrated a strong commitment to sustainability through its environmental initiatives, focus on diversity and inclusion, and efforts to create a responsible supply chain. However, the level of sustainability is a dynamic measure that requires continuous improvement and adaptation to new challenges and opportunities.\""
      ]
     },
     "execution_count": 11,
     "metadata": {},
     "output_type": "execute_result"
    }
   ],
   "source": [
    "report_parser = ESGRAGRetriever()\n",
    "prompt = \"what is the level of sustainability of intel?\"\n",
    "report_parser.query_rag(prompt)"
   ]
  }
 ],
 "metadata": {
  "kernelspec": {
   "display_name": "Python 3",
   "language": "python",
   "name": "python3"
  },
  "language_info": {
   "codemirror_mode": {
    "name": "ipython",
    "version": 3
   },
   "file_extension": ".py",
   "mimetype": "text/x-python",
   "name": "python",
   "nbconvert_exporter": "python",
   "pygments_lexer": "ipython3",
   "version": "3.13.2"
  }
 },
 "nbformat": 4,
 "nbformat_minor": 2
}
