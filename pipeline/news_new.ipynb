{
 "cells": [
  {
   "cell_type": "code",
   "execution_count": 1,
   "metadata": {},
   "outputs": [],
   "source": [
    "# ✅ Import Required Libraries\n",
    "import requests\n",
    "import pandas as pd\n",
    "import os\n",
    "from transformers import AutoModelForSequenceClassification, AutoTokenizer\n",
    "import torch\n",
    "import numpy as np\n",
    "from collections import Counter\n",
    "from sentence_transformers import SentenceTransformer\n",
    "import faiss\n",
    "import json"
   ]
  },
  {
   "cell_type": "code",
   "execution_count": 2,
   "metadata": {},
   "outputs": [
    {
     "name": "stderr",
     "output_type": "stream",
     "text": [
      "Some weights of MPNetForSequenceClassification were not initialized from the model checkpoint at ai-lab/ESGify and are newly initialized: ['classifier.dense.bias', 'classifier.dense.weight', 'classifier.out_proj.bias', 'classifier.out_proj.weight']\n",
      "You should probably TRAIN this model on a down-stream task to be able to use it for predictions and inference.\n"
     ]
    }
   ],
   "source": [
    "# ✅ Load SentenceTransformer Model for FAISS Embeddings\n",
    "embedding_model = SentenceTransformer('all-MiniLM-L6-v2')\n",
    "\n",
    "# ✅ Initialize FAISS Vector Store\n",
    "dimension = embedding_model.get_sentence_embedding_dimension()  # Get vector size\n",
    "index = faiss.IndexFlatL2(dimension)  # Create FAISS index\n",
    "\n",
    "# ✅ Load ESGify Classification Model & Tokenizer\n",
    "MODEL_NAME = \"ai-lab/ESGify\"\n",
    "classification_model = AutoModelForSequenceClassification.from_pretrained(MODEL_NAME)\n",
    "tokenizer = AutoTokenizer.from_pretrained(MODEL_NAME)\n",
    "\n",
    "# ✅ Initialize Dictionary to Store FAISS Mappings\n",
    "stored_perceptions = {}"
   ]
  },
  {
   "cell_type": "code",
   "execution_count": 3,
   "metadata": {},
   "outputs": [],
   "source": [
    "#newsapi.io\n",
    "\n",
    "NEWS_API_KEY = os.getenv(\"NEWS_API_KEY\")\n",
    "\n",
    "def fetch_newsdata(company_name, NEWS_API_KEY, max_results=10):\n",
    "    \"\"\"\n",
    "    Fetches the top news articles related to ESG controversies for a given company using newsdata.io.\n",
    "    \"\"\"\n",
    "    base_url = \"https://newsdata.io/api/1/latest?\"\n",
    "\n",
    "    # Construct query to capture ESG controversies (e.g., controversy, emissions, sustainability)\n",
    "    query = f\"{company_name} ESG OR controversy OR emissions OR sustainability\"\n",
    "    \n",
    "    # Define request parameters\n",
    "    params = {\n",
    "        \"apikey\": NEWS_API_KEY,\n",
    "        \"q\": query,\n",
    "        \"language\": \"en\",\n",
    "    }\n",
    "    \n",
    "    response = requests.get(base_url, params=params)\n",
    "    if response.status_code == 200:\n",
    "        data = response.json()\n",
    "        # Convert the results into a DataFrame for easy processing\n",
    "        articles = data.get(\"results\", [])\n",
    "        return pd.DataFrame(articles)\n",
    "\n",
    "        # ✅ Ensure 'description' exists\n",
    "        if \"description\" not in df.columns:\n",
    "            print(f\"Warning: 'description' missing for {company_name}. Creating empty column.\")\n",
    "            df[\"description\"] = None  # Create empty column to avoid KeyError\n",
    "    else:\n",
    "        print(f\"Error fetching news: {response.status_code}\")\n",
    "        return None"
   ]
  },
  {
   "cell_type": "code",
   "execution_count": 4,
   "metadata": {},
   "outputs": [],
   "source": [
    "# ✅ Function to Classify ESG Risks\n",
    "def classify_news_batch(news_df):\n",
    "    \"\"\"Classifies each news article's description using the ESGify model.\"\"\"\n",
    "    \n",
    "    if \"description\" not in news_df.columns:\n",
    "        print(\"Skipping classification: No 'description' column in DataFrame.\")\n",
    "        news_df[\"esg_classification\"] = None  # Ensure column exists\n",
    "        return news_df  \n",
    "\n",
    "    classifications = [None] * len(news_df)  # Pre-fill with None\n",
    "\n",
    "    for idx, description in enumerate(news_df[\"description\"]):\n",
    "        if pd.isna(description):  # Handle missing values\n",
    "            classifications[idx] = None  # Explicitly assign None\n",
    "        else:\n",
    "            inputs = tokenizer(description, return_tensors=\"pt\", padding=True, truncation=True, max_length=512)\n",
    "            with torch.no_grad():\n",
    "                outputs = classification_model(**inputs)\n",
    "            scores = torch.nn.functional.softmax(outputs.logits, dim=-1).squeeze().tolist()\n",
    "\n",
    "            if hasattr(classification_model.config, \"id2label\"):\n",
    "                ID2LABEL = classification_model.config.id2label  # Use model's label mapping\n",
    "            else:\n",
    "                print(\"Warning: No ID2LABEL mapping found. Defaulting to generic categories.\")\n",
    "                ID2LABEL = {i: f\"Category {i}\" for i in range(len(scores))}\n",
    "\n",
    "            # ✅ Ensure length consistency\n",
    "            top_indices = np.argsort(scores)[-3:][::-1]\n",
    "            top_categories = [(ID2LABEL.get(i, f\"Category {i}\"), round(scores[i], 3)) for i in top_indices]\n",
    "\n",
    "            classifications[idx] = top_categories  # Assign to the same index\n",
    "\n",
    "    # ✅ Store classifications in DataFrame\n",
    "    news_df[\"esg_classification\"] = classifications\n",
    "    return news_df"
   ]
  },
  {
   "cell_type": "code",
   "execution_count": null,
   "metadata": {},
   "outputs": [],
   "source": [
    "def compute_esg_perception(news_df):\n",
    "    \"\"\"\n",
    "    Aggregates ESG classification scores across all news articles \n",
    "    and computes an overall perception score.\n",
    "    \"\"\"\n",
    "    # Extract classifications from DataFrame\n",
    "    all_risks = []\n",
    "    all_scores = []\n",
    "\n",
    "    for classifications in news_df[\"esg_classification\"]:\n",
    "        if classifications is not None:\n",
    "            for category, score in classifications:\n",
    "                all_risks.append(category)\n",
    "                all_scores.append(score)\n",
    "\n",
    "    if not all_scores:  # Handle empty scores\n",
    "        return {\n",
    "            \"Average_Perception_Score\": None,\n",
    "            \"Dominant_ESG_Risks\": [],\n",
    "            \"Risk_Frequency\": {}\n",
    "        }\n",
    "\n",
    "    # Compute average perception score\n",
    "    avg_score = np.mean(all_scores)\n",
    "\n",
    "    # Identify the most common ESG concerns\n",
    "    risk_counts = Counter(all_risks)\n",
    "    dominant_risks = risk_counts.most_common(3)  # Top 3 most frequent risks\n",
    "\n",
    "    # Format results\n",
    "    esg_summary = {\n",
    "        \"Average_Perception_Score\": round(avg_score, 3),\n",
    "        \"Dominant_ESG_Risks\": [risk[0] for risk in dominant_risks],\n",
    "        \"Risk_Frequency\": dict(risk_counts)\n",
    "    }\n",
    "\n",
    "    return esg_summary"
   ]
  },
  {
   "cell_type": "code",
   "execution_count": 6,
   "metadata": {},
   "outputs": [],
   "source": [
    "# ✅ Function to Store ESG Perceptions in FAISS\n",
    "def store_esg_perception_in_faiss(company_name, esg_summary, index, stored_perceptions):\n",
    "    \"\"\"\n",
    "    Converts ESG perception summary into embeddings, stores in FAISS, \n",
    "    and saves a mapping from FAISS index to actual ESG summary.\n",
    "    \"\"\"\n",
    "    perception_text = f\"\"\"\n",
    "    ESG Perception Summary for {company_name}:\n",
    "    - Average ESG Risk Score: {esg_summary[\"Average_Perception_Score\"]}\n",
    "    - Dominant ESG Risks: {\", \".join(esg_summary[\"Dominant_ESG_Risks\"])}\n",
    "    - Risk Breakdown: {esg_summary[\"Risk_Frequency\"]}\n",
    "    \"\"\"\n",
    "\n",
    "    # ✅ Use SentenceTransformer Model to Generate Embedding\n",
    "    embedding = embedding_model.encode([perception_text])\n",
    "\n",
    "    # ✅ Store Embedding in FAISS\n",
    "    index.add(np.array(embedding))\n",
    "\n",
    "    # ✅ Store ESG Summary in External Dictionary (Mapped to FAISS)\n",
    "    stored_perceptions[len(stored_perceptions)] = perception_text\n",
    "\n",
    "    return index\n"
   ]
  },
  {
   "cell_type": "code",
   "execution_count": 7,
   "metadata": {},
   "outputs": [],
   "source": [
    "# ✅ Function to Retrieve ESG Perceptions from FAISS\n",
    "def retrieve_esg_perception(query, index, embedding_model, stored_perceptions):\n",
    "    \"\"\"\n",
    "    Retrieves the most relevant ESG perception summary from FAISS based on a query.\n",
    "    \"\"\"\n",
    "    query_embedding = embedding_model.encode([query])\n",
    "    _, indices = index.search(np.array(query_embedding), k=1)  # Retrieve top match\n",
    "\n",
    "    retrieved_index = indices[0][0]  # Extract the best match\n",
    "\n",
    "    if retrieved_index == -1 or retrieved_index not in stored_perceptions:\n",
    "        return \"No matching ESG perception found.\"\n",
    "\n",
    "    return stored_perceptions[retrieved_index]  # Return the actual ESG perception data"
   ]
  },
  {
   "cell_type": "code",
   "execution_count": 8,
   "metadata": {},
   "outputs": [],
   "source": [
    "# ✅ Function to Retrieve or Compute ESG Perception\n",
    "def retrieve_or_compute_esg_perception(company_name, index, stored_perceptions):\n",
    "    \"\"\"Retrieves ESG perception from FAISS or computes and stores it if missing.\"\"\"\n",
    "    # ✅ Step 1: Encode the query and check if the company exists in FAISS\n",
    "    query_embedding = embedding_model.encode([company_name])\n",
    "    _, indices = index.search(np.array(query_embedding), k=1)\n",
    "    retrieved_index = indices[0][0]  # Extract the best match\n",
    "\n",
    "    # ✅ Step 2: If the company exists, return the stored perception\n",
    "    if retrieved_index != -1 and retrieved_index in stored_perceptions:\n",
    "        print(f\"Retrieved {company_name}'s ESG perception from FAISS.\")\n",
    "        return stored_perceptions[retrieved_index]\n",
    "    \n",
    "    print(f\"{company_name} not found in FAISS. Computing new ESG perception...\")\n",
    "    news_df = fetch_newsdata(company_name, NEWS_API_KEY)\n",
    "    news_df = classify_news_batch(news_df)\n",
    "    esg_summary = compute_esg_perception(news_df)\n",
    "    \n",
    "    return store_esg_perception_in_faiss(company_name, esg_summary, index, stored_perceptions)"
   ]
  },
  {
   "cell_type": "code",
   "execution_count": 13,
   "metadata": {},
   "outputs": [],
   "source": [
    "def populate_vector_store(api_key, json_file):\n",
    "    \"\"\"Populates FAISS vector store with ESG perceptions for first 50 companies.\"\"\"\n",
    "    with open(json_file, \"r\") as file:\n",
    "        company_data = json.load(file)\n",
    "    \n",
    "    first_50_companies = list(company_data.items())[:25]\n",
    "    \n",
    "    for _, company in first_50_companies:\n",
    "        company_name = company[\"title\"]\n",
    "        print(f\"Processing {company_name}...\")\n",
    "        news_df = fetch_newsdata(company_name, NEWS_API_KEY)\n",
    "        news_df = classify_news_batch(news_df)\n",
    "        esg_summary = compute_esg_perception(news_df)\n",
    "        store_esg_perception_in_faiss(company_name, esg_summary, index, stored_perceptions)\n",
    "    \n",
    "    print(\"Vector store populated with first 50 companies.\")"
   ]
  },
  {
   "cell_type": "code",
   "execution_count": 14,
   "metadata": {},
   "outputs": [
    {
     "name": "stdout",
     "output_type": "stream",
     "text": [
      "Processing Apple Inc....\n",
      "Processing MICROSOFT CORP...\n",
      "Processing NVIDIA CORP...\n",
      "Processing AMAZON COM INC...\n",
      "Processing Alphabet Inc....\n",
      "Processing Meta Platforms, Inc....\n",
      "Processing BERKSHIRE HATHAWAY INC...\n",
      "Processing Tesla, Inc....\n",
      "Processing TAIWAN SEMICONDUCTOR MANUFACTURING CO LTD...\n",
      "Processing Broadcom Inc....\n",
      "Processing ELI LILLY & Co...\n",
      "Processing Walmart Inc....\n",
      "Processing JPMORGAN CHASE & CO...\n",
      "Processing VISA INC....\n",
      "Processing SPDR S&P 500 ETF TRUST...\n",
      "Processing Mastercard Inc...\n",
      "Processing EXXON MOBIL CORP...\n",
      "Processing COSTCO WHOLESALE CORP /NEW...\n",
      "Processing ORACLE CORP...\n",
      "Processing UNITEDHEALTH GROUP INC...\n",
      "Processing NETFLIX INC...\n",
      "Processing PROCTER & GAMBLE Co...\n",
      "Processing JOHNSON & JOHNSON...\n",
      "Processing NOVO NORDISK A S...\n",
      "Processing HOME DEPOT, INC....\n",
      "Vector store populated with first 50 companies.\n"
     ]
    }
   ],
   "source": [
    "populate_vector_store(NEWS_API_KEY, \"data/company_tickers.json\")"
   ]
  },
  {
   "cell_type": "code",
   "execution_count": 11,
   "metadata": {},
   "outputs": [
    {
     "name": "stdout",
     "output_type": "stream",
     "text": [
      "Number of ESG perceptions stored in FAISS: 2\n"
     ]
    }
   ],
   "source": [
    "print(\"Number of ESG perceptions stored in FAISS:\", index.ntotal)"
   ]
  },
  {
   "cell_type": "code",
   "execution_count": 19,
   "metadata": {},
   "outputs": [
    {
     "name": "stdout",
     "output_type": "stream",
     "text": [
      "Retrieved what are the ESG risks of EPIC?'s ESG perception from FAISS.\n"
     ]
    },
    {
     "data": {
      "text/plain": [
       "\"\\n    ESG Perception Summary for Mastercard Inc:\\n    - Average ESG Risk Score: 0.023\\n    - Dominant ESG Risks: Environmental Management, Animal Welfare, Natural Resources\\n    - Risk Breakdown: {'Environmental Management': 1, 'Animal Welfare': 1, 'Natural Resources': 1, 'Supply Chain (Social)': 1, 'Landscape Transformation': 1, 'Disclosure': 1}\\n    \""
      ]
     },
     "execution_count": 19,
     "metadata": {},
     "output_type": "execute_result"
    }
   ],
   "source": [
    "company_name = \"what are the ESG risks of EPIC?\"\n",
    "esg_summary = retrieve_or_compute_esg_perception(company_name, index, stored_perceptions)\n",
    "esg_summary"
   ]
  },
  {
   "cell_type": "code",
   "execution_count": 1,
   "metadata": {},
   "outputs": [],
   "source": [
    "from news import ESGNewsProcessor\n"
   ]
  },
  {
   "cell_type": "code",
   "execution_count": 2,
   "metadata": {},
   "outputs": [
    {
     "name": "stderr",
     "output_type": "stream",
     "text": [
      "Some weights of MPNetForSequenceClassification were not initialized from the model checkpoint at ai-lab/ESGify and are newly initialized: ['classifier.dense.bias', 'classifier.dense.weight', 'classifier.out_proj.bias', 'classifier.out_proj.weight']\n",
      "You should probably TRAIN this model on a down-stream task to be able to use it for predictions and inference.\n"
     ]
    },
    {
     "name": "stdout",
     "output_type": "stream",
     "text": [
      "Loaded existing FAISS vector store.\n",
      "Loaded stored perceptions.\n",
      "Processing COCA COLA CO...\n",
      "Stored COCA COLA CO ESG perception and updated FAISS vector store.\n",
      "Processing REELCAUSE INC...\n",
      "Skipping REELCAUSE INC: No news data found.\n",
      "Processing ASML HOLDING NV...\n",
      "Skipping ASML HOLDING NV: No news data found.\n",
      "Processing Salesforce, Inc....\n",
      "Stored Salesforce, Inc. ESG perception and updated FAISS vector store.\n",
      "Processing CHEVRON CORP...\n",
      "Stored CHEVRON CORP ESG perception and updated FAISS vector store.\n",
      "Processing CISCO SYSTEMS, INC....\n",
      "Stored CISCO SYSTEMS, INC. ESG perception and updated FAISS vector store.\n",
      "Processing WELLS FARGO & COMPANY/MN...\n",
      "Stored WELLS FARGO & COMPANY/MN ESG perception and updated FAISS vector store.\n",
      "Processing Philip Morris International Inc....\n",
      "Stored Philip Morris International Inc. ESG perception and updated FAISS vector store.\n",
      "Processing ABBOTT LABORATORIES...\n",
      "Stored ABBOTT LABORATORIES ESG perception and updated FAISS vector store.\n",
      "Processing TOYOTA MOTOR CORP/...\n",
      "Stored TOYOTA MOTOR CORP/ ESG perception and updated FAISS vector store.\n",
      "Processing ASTRAZENECA PLC...\n",
      "Stored ASTRAZENECA PLC ESG perception and updated FAISS vector store.\n",
      "Processing Merck & Co., Inc....\n",
      "Stored Merck & Co., Inc. ESG perception and updated FAISS vector store.\n",
      "Processing INTERNATIONAL BUSINESS MACHINES CORP...\n",
      "Stored INTERNATIONAL BUSINESS MACHINES CORP ESG perception and updated FAISS vector store.\n",
      "Processing LINDE PLC...\n",
      "Stored LINDE PLC ESG perception and updated FAISS vector store.\n",
      "Processing NOVARTIS AG...\n",
      "Stored NOVARTIS AG ESG perception and updated FAISS vector store.\n",
      "Processing GENERAL ELECTRIC CO...\n",
      "Stored GENERAL ELECTRIC CO ESG perception and updated FAISS vector store.\n",
      "Processing MCDONALDS CORP...\n",
      "Stored MCDONALDS CORP ESG perception and updated FAISS vector store.\n",
      "Processing Accenture plc...\n",
      "Stored Accenture plc ESG perception and updated FAISS vector store.\n",
      "Processing HSBC HOLDINGS PLC...\n",
      "Stored HSBC HOLDINGS PLC ESG perception and updated FAISS vector store.\n",
      "Processing PEPSICO INC...\n",
      "Stored PEPSICO INC ESG perception and updated FAISS vector store.\n",
      "Processing MORGAN STANLEY...\n",
      "Stored MORGAN STANLEY ESG perception and updated FAISS vector store.\n",
      "Processing AMERICAN EXPRESS CO...\n",
      "Stored AMERICAN EXPRESS CO ESG perception and updated FAISS vector store.\n",
      "Processing Walt Disney Co...\n",
      "Stored Walt Disney Co ESG perception and updated FAISS vector store.\n",
      "Processing INTUITIVE SURGICAL INC...\n",
      "Stored INTUITIVE SURGICAL INC ESG perception and updated FAISS vector store.\n",
      "Processing Shell plc...\n",
      "Stored Shell plc ESG perception and updated FAISS vector store.\n",
      "Processing Palantir Technologies Inc....\n",
      "Stored Palantir Technologies Inc. ESG perception and updated FAISS vector store.\n",
      "Processing AT&T INC....\n",
      "Stored AT&T INC. ESG perception and updated FAISS vector store.\n",
      "Processing THERMO FISHER SCIENTIFIC INC....\n",
      "Stored THERMO FISHER SCIENTIFIC INC. ESG perception and updated FAISS vector store.\n",
      "Processing INVESCO QQQ TRUST, SERIES 1...\n",
      "Stored INVESCO QQQ TRUST, SERIES 1 ESG perception and updated FAISS vector store.\n",
      "Processing Blackstone Inc....\n",
      "Error fetching news: 429\n",
      "Skipping Blackstone Inc.: No news data found.\n",
      "Processing ADOBE INC....\n",
      "Error fetching news: 429\n",
      "Skipping ADOBE INC.: No news data found.\n",
      "Processing GOLDMAN SACHS GROUP INC...\n",
      "Error fetching news: 429\n",
      "Skipping GOLDMAN SACHS GROUP INC: No news data found.\n",
      "Processing ServiceNow, Inc....\n",
      "Error fetching news: 429\n",
      "Skipping ServiceNow, Inc.: No news data found.\n",
      "Processing VERIZON COMMUNICATIONS INC...\n",
      "Error fetching news: 429\n",
      "Skipping VERIZON COMMUNICATIONS INC: No news data found.\n",
      "Processing RTX Corp...\n",
      "Error fetching news: 429\n",
      "Skipping RTX Corp: No news data found.\n",
      "Processing TEXAS INSTRUMENTS INC...\n",
      "Error fetching news: 429\n",
      "Skipping TEXAS INSTRUMENTS INC: No news data found.\n",
      "Processing QUALCOMM INC/DE...\n",
      "Error fetching news: 429\n",
      "Skipping QUALCOMM INC/DE: No news data found.\n",
      "Processing INTUIT INC....\n",
      "Error fetching news: 429\n",
      "Skipping INTUIT INC.: No news data found.\n",
      "Processing MEXICAN ECONOMIC DEVELOPMENT INC...\n",
      "Error fetching news: 429\n",
      "Skipping MEXICAN ECONOMIC DEVELOPMENT INC: No news data found.\n",
      "Processing PROGRESSIVE CORP/OH/...\n",
      "Error fetching news: 429\n",
      "Skipping PROGRESSIVE CORP/OH/: No news data found.\n",
      "Processing AMGEN INC...\n",
      "Error fetching news: 429\n",
      "Skipping AMGEN INC: No news data found.\n",
      "Processing ROYAL BANK OF CANADA...\n",
      "Error fetching news: 429\n",
      "Skipping ROYAL BANK OF CANADA: No news data found.\n",
      "Processing Booking Holdings Inc....\n",
      "Error fetching news: 429\n",
      "Skipping Booking Holdings Inc.: No news data found.\n",
      "Processing S&P Global Inc....\n",
      "Error fetching news: 429\n",
      "Skipping S&P Global Inc.: No news data found.\n",
      "Processing CATERPILLAR INC...\n",
      "Error fetching news: 429\n",
      "Skipping CATERPILLAR INC: No news data found.\n",
      "Processing ADVANCED MICRO DEVICES INC...\n",
      "Error fetching news: 429\n",
      "Skipping ADVANCED MICRO DEVICES INC: No news data found.\n",
      "Processing PDD Holdings Inc....\n",
      "Error fetching news: 429\n",
      "Skipping PDD Holdings Inc.: No news data found.\n",
      "Processing HDFC BANK LTD...\n",
      "Error fetching news: 429\n",
      "Skipping HDFC BANK LTD: No news data found.\n",
      "Processing Uber Technologies, Inc...\n",
      "Error fetching news: 429\n",
      "Skipping Uber Technologies, Inc: No news data found.\n",
      "Processing BOSTON SCIENTIFIC CORP...\n",
      "Error fetching news: 429\n",
      "Skipping BOSTON SCIENTIFIC CORP: No news data found.\n",
      "Processing STRYKER CORP...\n",
      "Error fetching news: 429\n",
      "Skipping STRYKER CORP: No news data found.\n",
      "Processing BlackRock, Inc....\n",
      "Error fetching news: 429\n",
      "Skipping BlackRock, Inc.: No news data found.\n",
      "Processing MITSUBISHI UFJ FINANCIAL GROUP INC...\n",
      "Error fetching news: 429\n",
      "Skipping MITSUBISHI UFJ FINANCIAL GROUP INC: No news data found.\n",
      "Processing UNION PACIFIC CORP...\n",
      "Error fetching news: 429\n",
      "Skipping UNION PACIFIC CORP: No news data found.\n",
      "Processing Sony Group Corp...\n",
      "Error fetching news: 429\n",
      "Skipping Sony Group Corp: No news data found.\n",
      "Processing PFIZER INC...\n",
      "Error fetching news: 429\n",
      "Skipping PFIZER INC: No news data found.\n",
      "Processing DANAHER CORP /DE/...\n",
      "Error fetching news: 429\n",
      "Skipping DANAHER CORP /DE/: No news data found.\n",
      "Processing NEXTERA ENERGY INC...\n",
      "Error fetching news: 429\n",
      "Skipping NEXTERA ENERGY INC: No news data found.\n",
      "Processing CITIGROUP INC...\n",
      "Error fetching news: 429\n",
      "Skipping CITIGROUP INC: No news data found.\n",
      "Processing Airbus SE/ADR...\n",
      "Error fetching news: 429\n",
      "Skipping Airbus SE/ADR: No news data found.\n",
      "Vector store populated with first 90 companies.\n"
     ]
    }
   ],
   "source": [
    "import os\n",
    "news_classifier = ESGNewsProcessor()\n",
    "news_classifier.populate_vector_store(\"data/company_tickers.json\")"
   ]
  },
  {
   "cell_type": "code",
   "execution_count": 6,
   "metadata": {},
   "outputs": [
    {
     "name": "stderr",
     "output_type": "stream",
     "text": [
      "Some weights of MPNetForSequenceClassification were not initialized from the model checkpoint at ai-lab/ESGify and are newly initialized: ['classifier.dense.bias', 'classifier.dense.weight', 'classifier.out_proj.bias', 'classifier.out_proj.weight']\n",
      "You should probably TRAIN this model on a down-stream task to be able to use it for predictions and inference.\n"
     ]
    },
    {
     "name": "stdout",
     "output_type": "stream",
     "text": [
      "Loaded existing FAISS vector store.\n",
      "Loaded stored perceptions.\n",
      "Retrieved what are the ESG risks of Alphabet?'s ESG perception from FAISS.\n"
     ]
    },
    {
     "data": {
      "text/plain": [
       "\"\\n        ESG Perception Summary for BERKSHIRE HATHAWAY INC:\\n        - Average ESG Risk Score: 0.023\\n        - Dominant ESG Risks: Responsible Investment & Greenwashing, Energy Efficiency and Renewables, Freedom of Association and Right to Organise\\n        - Risk Breakdown: {'Responsible Investment & Greenwashing': 10, 'Energy Efficiency and Renewables': 8, 'Freedom of Association and Right to Organise': 6, 'Labor Relations Management': 2, 'Planning Limitations': 1, 'Hazardous Materials Management': 2, 'Discrimination': 1}\\n        \""
      ]
     },
     "execution_count": 6,
     "metadata": {},
     "output_type": "execute_result"
    }
   ],
   "source": [
    "news_classifier = ESGNewsProcessor()\n",
    "news_classifier.retrieve_or_compute_esg_perception(\"what are the ESG risks of Alphabet?\")"
   ]
  }
 ],
 "metadata": {
  "kernelspec": {
   "display_name": "Python 3",
   "language": "python",
   "name": "python3"
  },
  "language_info": {
   "codemirror_mode": {
    "name": "ipython",
    "version": 3
   },
   "file_extension": ".py",
   "mimetype": "text/x-python",
   "name": "python",
   "nbconvert_exporter": "python",
   "pygments_lexer": "ipython3",
   "version": "3.13.2"
  }
 },
 "nbformat": 4,
 "nbformat_minor": 2
}
