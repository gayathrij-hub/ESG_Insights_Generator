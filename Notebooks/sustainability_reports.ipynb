{
 "cells": [
  {
   "cell_type": "code",
   "execution_count": 13,
   "metadata": {},
   "outputs": [
    {
     "name": "stdout",
     "output_type": "stream",
     "text": [
      "['https://www.apple.com/environment/pdf/Apple_Environmental_Progress_Report_2024.pdf', 'https://www.apple.com/environment/pdf/products/iphone/iPhone_16_and_iPhone_16_Plus_PER_Sept2024.pdf', 'https://assets-global.website-files.com/63636849ae1597cd8e2a0f8e/63ce4de69503662010f3a660_Apple_Pollution%20Emissions.pdf', 'https://www.apple.com/environment/pdf/products/iphone/iPhone_15_Pro_and_iPhone_15_Pro_Max_Sept2023.pdf', 'https://s203.q4cdn.com/367071867/files/doc_downloads/2024/04/Apple-Supply-Chain-2024-Progress-Report.pdf']\n"
     ]
    }
   ],
   "source": [
    "from googlesearch import search\n",
    "\n",
    "def find_sustainability_report(prompt):\n",
    "    query = f\"{prompt} + sustainability report filetype:pdf\"\n",
    "    results = list(search(query, num_results=5))\n",
    "    return results  # Return top results, preferably PDF links\n",
    "\n",
    "company = \"what is the best Apple product\"\n",
    "report_links = find_sustainability_report(company)\n",
    "print(report_links)"
   ]
  },
  {
   "cell_type": "code",
   "execution_count": 6,
   "metadata": {},
   "outputs": [
    {
     "name": "stdout",
     "output_type": "stream",
     "text": [
      "H ow can\n",
      "we advance\n",
      "sustainability?\n",
      "2024 Environmental\n",
      "Sustainability Report\n",
      "Reporting on our 2023 fiscal year\n",
      "Overview Microsoft sustainability Customer sustainability Global sustainability Appendix 02\n",
      "In this report\n",
      "Overview Microsoft sustainability Customer Global Appendix\n",
      "sustainability sustainability\n",
      "Carbon Waste\n",
      "Foreword 04 Our approach 10 Our approach 35 Overview 57 Overview 70 Appendix A 85\n",
      "2023 highlights 07 Improving the measurement 14 Reducing waste at our 37 Microsoft Cloud for 59 Investing in innovation 72 Appendix B 86\n",
      "and efficiency of our campuses and datacenters Sustainability\n",
      "How we work 08 Accelerate sustainability 76 #sustainabilitychampions 87\n",
      "operations\n",
      "Advancing circular cloud 40 Devices 61 solutions with AI\n",
      "Building markets and 18 hardware and packaging\n",
      "Green software 65 Policy and advocacy 79\n",
      "driving progress Improving device and 42\n",
      "Learnings and what’s next 22 packaging circularity Arts and culture 67 Employee engagement 81\n",
      "Learnings and what’s next 45 Planeta\n"
     ]
    }
   ],
   "source": [
    "import pdfplumber\n",
    "import requests\n",
    "from io import BytesIO\n",
    "\n",
    "def extract_text_from_pdf_url(pdf_url):\n",
    "    response = requests.get(pdf_url)\n",
    "    with pdfplumber.open(BytesIO(response.content)) as pdf:\n",
    "        text = \"\\n\".join([page.extract_text() for page in pdf.pages if page.extract_text()])\n",
    "    return text\n",
    "\n",
    "pdf_url = \"https://cdn-dynmedia-1.microsoft.com/is/content/microsoftcorp/microsoft/msc/documents/presentations/CSR/Microsoft-2024-Environmental-Sustainability-Report.pdf\"\n",
    "pdf_text = extract_text_from_pdf_url(pdf_url)\n",
    "\n",
    "print(pdf_text[:1000])  # Print a preview\n"
   ]
  },
  {
   "cell_type": "code",
   "execution_count": 1,
   "metadata": {},
   "outputs": [],
   "source": [
    "from sustainability_report import ESGRAGRetriever"
   ]
  },
  {
   "cell_type": "code",
   "execution_count": 2,
   "metadata": {},
   "outputs": [
    {
     "name": "stdout",
     "output_type": "stream",
     "text": [
      "✅ FAISS index loaded from sustainability_faiss.index. Index size: 2257\n",
      "✅ Loaded 1547 stored text chunks.\n",
      "FAISS index size after loading: 2257\n",
      "Stored text chunks: 1547\n"
     ]
    }
   ],
   "source": [
    "retriever = ESGRAGRetriever()\n",
    "print(\"FAISS index size after loading:\", retriever.index.ntotal)\n",
    "print(\"Stored text chunks:\", len(retriever.text_chunks))"
   ]
  },
  {
   "cell_type": "code",
   "execution_count": 4,
   "metadata": {},
   "outputs": [
    {
     "name": "stdout",
     "output_type": "stream",
     "text": [
      "Stored text chunks: 0\n"
     ]
    }
   ],
   "source": [
    "print(\"Stored text chunks:\", len(retriever.text_chunks))\n"
   ]
  },
  {
   "cell_type": "code",
   "execution_count": 5,
   "metadata": {},
   "outputs": [
    {
     "name": "stdout",
     "output_type": "stream",
     "text": [
      "✅ FAISS index loaded from sustainability_faiss.index. Index size: 1420\n",
      "✅ Loaded 710 stored text chunks.\n",
      "🔍 Similarity score with stored data: 0.66\n",
      "✅ High similarity! Using stored sustainability report.\n"
     ]
    },
    {
     "data": {
      "text/plain": [
       "\"To assess the level of sustainability of Apple, it's important to consider various aspects of its environmental, social, and governance (ESG) performance. While the specific context you've provided mentions the assurance process for stakeholders regarding the accuracy of Apple's sustainability reporting, particularly focusing on facilities energy and indirect Scope 3 greenhouse gas (GHG) emissions, a comprehensive evaluation would consider multiple factors:\\n\\n1. **Environmental Initiatives:**\\n   - **Carbon Neutrality Goals:** Apple has committed to becoming carbon neutral across its entire business, manufacturing supply chain, and product life cycle by 2030. This includes reducing emissions, using renewable energy, and investing in carbon removal solutions.\\n   - **Renewable Energy:** Apple has made significant strides in powering its operations with 100% renewable energy and is working with suppliers to transition to clean energy.\\n   - **Product Design and Recycling:** Apple focuses on product longevity, using recycled materials, and has programs like Apple Trade In to encourage recycling.\\n\\n2. **Social Responsibility:**\\n   - **Labor Practices:** Apple has policies to ensure fair labor practices and has been involved in initiatives to improve working conditions in its supply chain.\\n   - **Diversity and Inclusion:** Apple emphasizes diversity and inclusion within its workforce and has initiatives to support underrepresented communities.\\n\\n3. **Governance:**\\n   - **Transparency and Reporting:** Apple regularly publishes its Environmental Progress Reports and Supplier Responsibility Reports, demonstrating a commitment to transparency.\\n   - **Stakeholder Engagement:** Apple engages with stakeholders, including investors, customers, and NGOs, to align its sustainability goals with broader societal expectations.\\n\\n4. **Challenges and Criticisms:**\\n   - **Supply Chain Emissions:** Scope 3 emissions, which include those from the supply chain, are often the most challenging to address. Apple's focus on these emissions indicates recognition of their importance.\\n   - **Human Rights Concerns:** Apple has faced criticism related to labor practices in its supply chain, which it continues to address through audits and partnerships.\\n\\nOverall, Apple's sustainability efforts are robust, with clear commitments and progress in environmental initiatives, social responsibility, and governance. However, like many large corporations, it faces ongoing challenges, particularly in managing its complex supply chain and addressing indirect emissions. The level of sustainability can be considered high, but continuous improvement and transparency are essential to maintaining and enhancing its sustainability performance.\""
      ]
     },
     "execution_count": 5,
     "metadata": {},
     "output_type": "execute_result"
    }
   ],
   "source": [
    "report_parser = ESGRAGRetriever()\n",
    "prompt = \"what is the level of sustainability of Apple?\"\n",
    "report_parser.query_rag(prompt)  # Query the RAG status of the company"
   ]
  },
  {
   "cell_type": "code",
   "execution_count": 3,
   "metadata": {},
   "outputs": [
    {
     "name": "stdout",
     "output_type": "stream",
     "text": [
      "✅ FAISS index loaded from sustainability_faiss.index. Index size: 2257\n",
      "✅ Loaded 1547 stored text chunks.\n",
      "🔍 Similarity score with stored data: 0.46\n",
      "⚠️ Low similarity! Fetching a new sustainability report...\n",
      "✅ Processing report from: https://corporate.walmart.com/content/dam/corporate/documents/esgreport/fy2023-walmart-esg-highlights.pdf\n",
      "Extracting text from PDF...\n",
      "ℹ️ FAISS index found. Current size: 2257\n",
      "✅ Stored 170 new text chunks. Total chunks: 1717\n",
      "✅ New sustainability report stored in FAISS.\n",
      "🔍 Similarity score with stored data: 0.69\n",
      "✅ High similarity! Using stored sustainability report.\n",
      "❌ Retrieved indices are out of range. Fetching new report...\n",
      "✅ Processing report from: https://corporate.walmart.com/content/dam/corporate/documents/esgreport/fy2023-walmart-esg-highlights.pdf\n",
      "Extracting text from PDF...\n",
      "ℹ️ FAISS index found. Current size: 2427\n",
      "✅ Stored 170 new text chunks. Total chunks: 1887\n",
      "✅ New sustainability report stored in FAISS.\n"
     ]
    },
    {
     "data": {
      "text/plain": [
       "'New sustainability report has been fetched and stored. Please try querying again.'"
      ]
     },
     "execution_count": 3,
     "metadata": {},
     "output_type": "execute_result"
    }
   ],
   "source": [
    "report_parser = ESGRAGRetriever()\n",
    "prompt = \"what is the level of sustainability of Walmart?\"\n",
    "report_parser.query_rag(prompt)"
   ]
  }
 ],
 "metadata": {
  "kernelspec": {
   "display_name": "Python 3",
   "language": "python",
   "name": "python3"
  },
  "language_info": {
   "codemirror_mode": {
    "name": "ipython",
    "version": 3
   },
   "file_extension": ".py",
   "mimetype": "text/x-python",
   "name": "python",
   "nbconvert_exporter": "python",
   "pygments_lexer": "ipython3",
   "version": "3.13.2"
  }
 },
 "nbformat": 4,
 "nbformat_minor": 2
}
