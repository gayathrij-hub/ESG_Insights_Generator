{
 "cells": [
  {
   "cell_type": "code",
   "execution_count": 2,
   "metadata": {},
   "outputs": [],
   "source": [
    "import requests\n",
    "import json\n",
    "import pandas as pd\n",
    "from tqdm import tqdm"
   ]
  },
  {
   "cell_type": "code",
   "execution_count": 3,
   "metadata": {},
   "outputs": [],
   "source": [
    "# Custom headers (SEC requires contact info in User-Agent)\n",
    "HEADERS = {\n",
    "    'User-Agent': 'Gayathri Jayaraman (gayathrij@uchicago.edu)',\n",
    "    'Accept-Encoding': 'gzip, deflate',\n",
    "    'Host': 'data.sec.gov'\n",
    "}\n",
    "\n",
    "BASE_URL = \"https://data.sec.gov/submissions/CIK{}.json\""
   ]
  },
  {
   "cell_type": "code",
   "execution_count": 4,
   "metadata": {},
   "outputs": [],
   "source": [
    "def fetch_company_filings(cik):\n",
    "    \"\"\"Fetch submissions for a company based on CIK\"\"\"\n",
    "    cik = str(cik).zfill(10)  # Ensure CIK is zero-padded\n",
    "    url = BASE_URL.format(cik)\n",
    "    response = requests.get(url, headers=HEADERS)\n",
    "    if response.status_code == 200:\n",
    "        return response.json()\n",
    "    else:\n",
    "        print(f\"Failed to fetch data for CIK {cik}: {response.status_code}\")\n",
    "        return None\n",
    "\n",
    "\n",
    "def extract_filings(cik_list, filing_type=\"10-K\"):\n",
    "    \"\"\"Extract specified filing type for multiple CIKs\"\"\"\n",
    "    all_filings = []\n",
    "\n",
    "    for cik in tqdm(cik_list, desc=\"Fetching SEC filings\"):\n",
    "        data = fetch_company_filings(cik)\n",
    "        if data:\n",
    "            filings = data.get('filings', {}).get('recent', {})\n",
    "            for form, accession, report_date in zip(filings.get('form', []),\n",
    "                                                    filings.get('accessionNumber', []),\n",
    "                                                    filings.get('reportDate', [])):\n",
    "                if form == filing_type:\n",
    "                    filing_url = f\"https://www.sec.gov/Archives/edgar/data/{int(cik)}/{accession.replace('-', '')}/{accession}-index.html\"\n",
    "                    all_filings.append({\n",
    "                        \"CIK\": cik,\n",
    "                        \"Form\": form,\n",
    "                        \"AccessionNumber\": accession,\n",
    "                        \"ReportDate\": report_date,\n",
    "                        \"FilingURL\": filing_url\n",
    "                    })\n",
    "\n",
    "    return pd.DataFrame(all_filings)"
   ]
  },
  {
   "cell_type": "code",
   "execution_count": 8,
   "metadata": {},
   "outputs": [
    {
     "name": "stderr",
     "output_type": "stream",
     "text": [
      "Fetching SEC filings: 100%|██████████| 3/3 [00:00<00:00,  4.53it/s]"
     ]
    },
    {
     "name": "stdout",
     "output_type": "stream",
     "text": [
      "          CIK  Form       AccessionNumber  ReportDate  \\\n",
      "0  0000320193  10-K  0000320193-24-000123  2024-09-28   \n",
      "1  0000320193  10-K  0000320193-23-000106  2023-09-30   \n",
      "2  0000320193  10-K  0000320193-22-000108  2022-09-24   \n",
      "3  0000320193  10-K  0000320193-21-000105  2021-09-25   \n",
      "4  0000320193  10-K  0000320193-20-000096  2020-09-26   \n",
      "\n",
      "                                           FilingURL  \n",
      "0  https://www.sec.gov/Archives/edgar/data/320193...  \n",
      "1  https://www.sec.gov/Archives/edgar/data/320193...  \n",
      "2  https://www.sec.gov/Archives/edgar/data/320193...  \n",
      "3  https://www.sec.gov/Archives/edgar/data/320193...  \n",
      "4  https://www.sec.gov/Archives/edgar/data/320193...  \n"
     ]
    },
    {
     "name": "stderr",
     "output_type": "stream",
     "text": [
      "\n"
     ]
    }
   ],
   "source": [
    "# Example CIKs (Apple, Microsoft, Amazon)\n",
    "cik_list = ['0000320193', '0000789019', '0001018724']  \n",
    "\n",
    "# Fetch 10-K filings\n",
    "filings_df = extract_filings(cik_list)\n",
    "filings_df.to_csv(\"sec_10k_filings.csv\", index=False)\n",
    "print(filings_df.head())"
   ]
  },
  {
   "cell_type": "code",
   "execution_count": null,
   "metadata": {},
   "outputs": [],
   "source": []
  },
  {
   "cell_type": "code",
   "execution_count": null,
   "metadata": {},
   "outputs": [],
   "source": []
  },
  {
   "cell_type": "code",
   "execution_count": null,
   "metadata": {},
   "outputs": [],
   "source": []
  }
 ],
 "metadata": {
  "kernelspec": {
   "display_name": "Python 3",
   "language": "python",
   "name": "python3"
  },
  "language_info": {
   "codemirror_mode": {
    "name": "ipython",
    "version": 3
   },
   "file_extension": ".py",
   "mimetype": "text/x-python",
   "name": "python",
   "nbconvert_exporter": "python",
   "pygments_lexer": "ipython3",
   "version": "3.13.2"
  }
 },
 "nbformat": 4,
 "nbformat_minor": 2
}
